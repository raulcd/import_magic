{
 "cells": [
  {
   "cell_type": "markdown",
   "metadata": {
    "collapsed": true,
    "slideshow": {
     "slide_type": "slide"
    }
   },
   "source": [
    "# import magic\n",
    "* **Raúl Cumplido**\n",
    "* **@raulcumplido**\n",
    "* **PyConES 2015 - Valencia**\n",
    "\n",
    "![caption](img/te_chie_la.png)"
   ]
  },
  {
   "cell_type": "markdown",
   "metadata": {
    "slideshow": {
     "slide_type": "slide"
    }
   },
   "source": [
    "# Versions\n",
    "\n",
    "* Almost everything **Python 3.4**\n",
    "* Some bits **Python 3.5**\n",
    "* Extra **Python 3.6**"
   ]
  },
  {
   "cell_type": "markdown",
   "metadata": {
    "slideshow": {
     "slide_type": "slide"
    }
   },
   "source": [
    "# Covered\n",
    "* Diving deep on how \"straightforward\" import works\n",
    "\n",
    "# Not covered\n",
    "* Packages\n",
    "* NamespacePaths\n",
    "* Importlock\n",
    "* Lots of other stuff going on behind the scences (corner cases)"
   ]
  },
  {
   "cell_type": "markdown",
   "metadata": {
    "slideshow": {
     "slide_type": "slide"
    }
   },
   "source": [
    "# Command Line Time\n",
    "\n",
    "![caption](img/te_chie_la.png)"
   ]
  },
  {
   "cell_type": "markdown",
   "metadata": {
    "slideshow": {
     "slide_type": "slide"
    }
   },
   "source": [
    "# Easy Peasy\n",
    "\n",
    "![caption](img/import_1.png)"
   ]
  },
  {
   "cell_type": "markdown",
   "metadata": {
    "slideshow": {
     "slide_type": "slide"
    }
   },
   "source": [
    "# Command Line Time\n",
    "\n",
    "![caption](img/te_chie_la.png)"
   ]
  },
  {
   "cell_type": "markdown",
   "metadata": {
    "slideshow": {
     "slide_type": "slide"
    }
   },
   "source": [
    "# Import machinery\n",
    "\n",
    "* Importlib is the implementation of import"
   ]
  },
  {
   "cell_type": "code",
   "execution_count": 25,
   "metadata": {
    "collapsed": false,
    "slideshow": {
     "slide_type": "fragment"
    }
   },
   "outputs": [
    {
     "name": "stdout",
     "output_type": "stream",
     "text": [
      "['.py']\n",
      "['.pyc']\n",
      "b'\\x16\\r\\r\\n'\n"
     ]
    },
    {
     "data": {
      "text/plain": [
       "<module 'collections' from '/home/raulcd/.virtualenvs/import_magic/lib/python3.5/collections/__init__.py'>"
      ]
     },
     "execution_count": 25,
     "metadata": {},
     "output_type": "execute_result"
    }
   ],
   "source": [
    "import importlib\n",
    "print(importlib.machinery.SOURCE_SUFFIXES)\n",
    "print(importlib.machinery.BYTECODE_SUFFIXES)\n",
    "print(importlib._bootstrap_external.MAGIC_NUMBER)\n",
    "importlib.import_module(\"collections\")"
   ]
  },
  {
   "cell_type": "code",
   "execution_count": 21,
   "metadata": {
    "collapsed": true,
    "slideshow": {
     "slide_type": "skip"
    }
   },
   "outputs": [],
   "source": [
    "# cpython/Lib/importlib/_bootstrap.py\n",
    "\n",
    "def _gcd_import(name, package=None, level=0):\n",
    "    ...\n",
    "    if name not in sys.modules:\n",
    "        return _find_and_load(name, _gcd_import)\n",
    "    module = sys.modules[name]\n",
    "    ...\n",
    "    return module"
   ]
  },
  {
   "cell_type": "markdown",
   "metadata": {
    "slideshow": {
     "slide_type": "slide"
    }
   },
   "source": [
    "# sys.modules: Caching modules\n",
    "\n",
    "![caption](img/import_3.png)"
   ]
  },
  {
   "cell_type": "code",
   "execution_count": null,
   "metadata": {
    "collapsed": true,
    "slideshow": {
     "slide_type": "skip"
    }
   },
   "outputs": [],
   "source": [
    "# cpython/Lib/importlib/_bootstrap.py\n",
    "\n",
    "def _find_and_load_unlocked(name, import_):\n",
    "    ...\n",
    "    spec = _find_spec(name, path)\n",
    "    if spec is None:\n",
    "        raise ImportError(_ERR_MSG.format(name), name=name)\n",
    "    else:\n",
    "        module = _load_unlocked(spec)\n",
    "    ...\n",
    "    return module"
   ]
  },
  {
   "cell_type": "markdown",
   "metadata": {
    "slideshow": {
     "slide_type": "slide"
    }
   },
   "source": [
    "# Find spec and load module\n",
    "\n",
    "![caption](img/import_4.png)"
   ]
  },
  {
   "cell_type": "code",
   "execution_count": null,
   "metadata": {
    "collapsed": true,
    "slideshow": {
     "slide_type": "skip"
    }
   },
   "outputs": [],
   "source": [
    "# cpython/Lib/importlib/_bootstrap.py\n",
    "\n",
    "def _find_spec(name, path, target=None):\n",
    "    \"\"\"Find a module's loader.\"\"\"\n",
    "    ...\n",
    "    for finder in sys.meta_path:\n",
    "        ...\n",
    "            find_spec = finder.find_spec\n",
    "            ...\n",
    "            spec = find_spec(name, path, target)\n",
    "        if spec is not None:\n",
    "            ...\n",
    "                return spec\n",
    "    else:\n",
    "        return None"
   ]
  },
  {
   "cell_type": "markdown",
   "metadata": {
    "slideshow": {
     "slide_type": "slide"
    }
   },
   "source": [
    "# sys.meta_path: Importers\n",
    "\n",
    "![caption](img/import_5.png)"
   ]
  },
  {
   "cell_type": "code",
   "execution_count": 26,
   "metadata": {
    "collapsed": false,
    "slideshow": {
     "slide_type": "slide"
    }
   },
   "outputs": [
    {
     "data": {
      "text/plain": [
       "[_frozen_importlib.BuiltinImporter,\n",
       " _frozen_importlib.FrozenImporter,\n",
       " _frozen_importlib_external.PathFinder]"
      ]
     },
     "execution_count": 26,
     "metadata": {},
     "output_type": "execute_result"
    }
   ],
   "source": [
    "import sys\n",
    "sys.meta_path"
   ]
  },
  {
   "cell_type": "code",
   "execution_count": null,
   "metadata": {
    "collapsed": true,
    "slideshow": {
     "slide_type": "fragment"
    }
   },
   "outputs": [],
   "source": [
    "@host - ~$ python -vv\n",
    "import _frozen_importlib # frozen\n",
    "import imp # builtin\n",
    "import sys # builtin\n",
    "import '_warnings' # <class '_frozen_importlib.BuiltinImporter'>\n",
    "import '_thread' # <class '_frozen_importlib.BuiltinImporter'>\n",
    "import '_weakref' # <class '_frozen_importlib.BuiltinImporter'>\n",
    "import '_frozen_importlib_external' # <class '_frozen_importlib.FrozenImporter'>\n",
    "import '_io' # <class '_frozen_importlib.BuiltinImporter'>\n",
    "import 'marshal' # <class '_frozen_importlib.BuiltinImporter'>\n",
    "import 'posix' # <class '_frozen_importlib.BuiltinImporter'>\n",
    "import _thread # previously loaded ('_thread')\n",
    "import '_thread' # <class '_frozen_importlib.BuiltinImporter'>\n",
    "import _weakref # previously loaded ('_weakref')\n",
    "import '_weakref' # <class '_frozen_importlib.BuiltinImporter'>\n",
    "# installing zipimport hook\n",
    "import 'zipimport' # <class '_frozen_importlib.BuiltinImporter'>\n"
   ]
  },
  {
   "cell_type": "code",
   "execution_count": null,
   "metadata": {
    "collapsed": true,
    "slideshow": {
     "slide_type": "skip"
    }
   },
   "outputs": [],
   "source": [
    "# cpython/Lib/importlib/_bootstrap.py\n",
    "class BuiltinImporter:\n",
    "\n",
    "    \"\"\"Meta path import for built-in modules.\n",
    "    All methods are either class or static methods to avoid the need to\n",
    "    instantiate the class.\n",
    "    \"\"\"\n",
    "    ...\n",
    "    @classmethod\n",
    "    def find_spec(cls, fullname, path=None, target=None):\n",
    "        if path is not None:\n",
    "            return None\n",
    "        if _imp.is_builtin(fullname):\n",
    "            return spec_from_loader(fullname, cls, origin='built-in')\n",
    "        else:\n",
    "            return None"
   ]
  },
  {
   "cell_type": "markdown",
   "metadata": {
    "slideshow": {
     "slide_type": "slide"
    }
   },
   "source": [
    "# sys.meta_path: BuiltinImporter\n",
    "\n",
    "![caption](img/import_6.png)"
   ]
  },
  {
   "cell_type": "code",
   "execution_count": null,
   "metadata": {
    "collapsed": true,
    "slideshow": {
     "slide_type": "skip"
    }
   },
   "outputs": [],
   "source": [
    "# cpython/Lib/importlib/_bootstrap.py\n",
    "# Python modules compiled and build with the python executable itself\n",
    "\n",
    "class FrozenImporter:\n",
    "\n",
    "    \"\"\"Meta path import for frozen modules.\n",
    "    All methods are either class or static methods to avoid the need to\n",
    "    instantiate the class.\n",
    "    \"\"\"\n",
    "    ...\n",
    "    @classmethod\n",
    "    def find_spec(cls, fullname, path=None, target=None):\n",
    "        if _imp.is_frozen(fullname):\n",
    "            return spec_from_loader(fullname, cls, origin='frozen')\n",
    "        else:\n",
    "            return None"
   ]
  },
  {
   "cell_type": "markdown",
   "metadata": {
    "slideshow": {
     "slide_type": "slide"
    }
   },
   "source": [
    "# sys.meta_path: FrozenImporter\n",
    "\n",
    "![caption](img/import_7.png)"
   ]
  },
  {
   "cell_type": "code",
   "execution_count": null,
   "metadata": {
    "collapsed": true,
    "slideshow": {
     "slide_type": "skip"
    }
   },
   "outputs": [],
   "source": [
    "# cpython/Lib/importlib/_bootstrap_external.py\n",
    "class PathFinder:\n",
    "\n",
    "    \"\"\"Meta path finder for sys.path and package __path__ attributes.\"\"\"\n",
    "\n",
    "    @classmethod\n",
    "    def find_spec(cls, fullname, path=None, target=None):\n",
    "        \"\"\"find the module on sys.path or 'path' based on sys.path_hooks and\n",
    "        sys.path_importer_cache.\"\"\"\n",
    "        ...\n",
    "        spec = cls._get_spec(fullname, path, target)\n",
    "        ...\n",
    "        return spec # it may return None\n",
    "    \n",
    "    @classmethod\n",
    "    def _get_spec(cls, fullname, path, target=None):\n",
    "        \"\"\"Find the loader or namespace_path for this module/package name.\"\"\"\n",
    "        ...\n",
    "            finder = cls._path_importer_cache(entry)\n",
    "            ...\n",
    "            spec = finder.find_spec(fullname, target)\n",
    "            ...\n",
    "            if spec.loader is not None:\n",
    "                    return spec\n",
    "            \n",
    "            ...    \n",
    "            raise ImportError('spec missing loader')\n",
    "            ...\n",
    "        # Namespacepath can be returned "
   ]
  },
  {
   "cell_type": "markdown",
   "metadata": {
    "collapsed": true,
    "slideshow": {
     "slide_type": "slide"
    }
   },
   "source": [
    "# PathFinder: The finder searchs a finder\n",
    "\n",
    "![caption](img/import_8.png)"
   ]
  },
  {
   "cell_type": "code",
   "execution_count": null,
   "metadata": {
    "collapsed": true,
    "slideshow": {
     "slide_type": "skip"
    }
   },
   "outputs": [],
   "source": [
    "    @classmethod\n",
    "    def _path_importer_cache(cls, path):\n",
    "        \"\"\"Get the finder for the path entry from sys.path_importer_cache.\n",
    "        If the path entry is not in the cache, find the appropriate finder\n",
    "        and cache it. If no finder is available, store None.\n",
    "        \"\"\"\n",
    "        ...\n",
    "        try:\n",
    "            finder = sys.path_importer_cache[path]\n",
    "        except KeyError:\n",
    "            finder = cls._path_hooks(path)\n",
    "            sys.path_importer_cache[path] = finder\n",
    "        return finder"
   ]
  },
  {
   "cell_type": "code",
   "execution_count": 33,
   "metadata": {
    "collapsed": true,
    "slideshow": {
     "slide_type": "slide"
    }
   },
   "outputs": [],
   "source": [
    "    @classmethod\n",
    "    def _path_hooks(cls, path):\n",
    "        \"\"\"Search sequence of hooks for a finder for 'path'.\n",
    "        If 'hooks' is false then use sys.path_hooks.\n",
    "        \"\"\"\n",
    "        if sys.path_hooks is not None and not sys.path_hooks:\n",
    "            _warnings.warn('sys.path_hooks is empty', ImportWarning)\n",
    "        for hook in sys.path_hooks:\n",
    "            try:\n",
    "                return hook(path)\n",
    "            except ImportError:\n",
    "                continue\n",
    "        else:\n",
    "            return None"
   ]
  },
  {
   "cell_type": "markdown",
   "metadata": {
    "collapsed": true,
    "slideshow": {
     "slide_type": "slide"
    }
   },
   "source": [
    "# PathFinder: The fun begins\n",
    "\n",
    "![caption](img/import_9.png)"
   ]
  },
  {
   "cell_type": "code",
   "execution_count": null,
   "metadata": {
    "collapsed": true,
    "slideshow": {
     "slide_type": "slide"
    }
   },
   "outputs": [],
   "source": [
    ">>> import sys\n",
    ">>> sys.path_importer_cache\n",
    "{'/usr/lib/python35.zip': None, '/usr/lib/python3.5/plat-linux': FileFinder('/usr/lib/python3.5/plat-linux'), \n",
    " '/usr/lib/python3.5/site-packages': FileFinder('/usr/lib/python3.5/site-packages'), \n",
    " '/usr/lib/python3.5': FileFinder('/usr/lib/python3.5'), '/usr/lib/python3.5/': FileFinder('/usr/lib/python3.5/'), \n",
    " '/usr/lib/python3.5/lib-dynload': FileFinder('/usr/lib/python3.5/lib-dynload'), \n",
    " '/usr/lib/python3.5/encodings': FileFinder('/usr/lib/python3.5/encodings'), \n",
    " '/usr/lib/python3.5/collections': FileFinder('/usr/lib/python3.5/collections')}"
   ]
  },
  {
   "cell_type": "code",
   "execution_count": 34,
   "metadata": {
    "collapsed": false,
    "slideshow": {
     "slide_type": "fragment"
    }
   },
   "outputs": [
    {
     "data": {
      "text/plain": [
       "[zipimport.zipimporter,\n",
       " <function _frozen_importlib_external.FileFinder.path_hook.<locals>.path_hook_for_FileFinder>]"
      ]
     },
     "execution_count": 34,
     "metadata": {},
     "output_type": "execute_result"
    }
   ],
   "source": [
    "import sys\n",
    "sys.path_hooks"
   ]
  },
  {
   "cell_type": "code",
   "execution_count": 43,
   "metadata": {
    "collapsed": false,
    "slideshow": {
     "slide_type": "fragment"
    }
   },
   "outputs": [
    {
     "data": {
      "text/plain": [
       "ModuleSpec(name='test', loader=<_frozen_importlib_external.SourceFileLoader object at 0x7f43f4035e80>, origin='/test.py')"
      ]
     },
     "execution_count": 43,
     "metadata": {},
     "output_type": "execute_result"
    }
   ],
   "source": [
    "# /test.py exists otherwise None is returned\n",
    "sys.path_hooks[1]('/').find_spec('test')"
   ]
  },
  {
   "cell_type": "code",
   "execution_count": null,
   "metadata": {
    "collapsed": true,
    "slideshow": {
     "slide_type": "slide"
    }
   },
   "outputs": [],
   "source": [
    ">>> spec = sys.meta_path[2].find_spec('collections')\n",
    "# trying /home/raulcd/collections.cpython-35m-x86_64-linux-gnu.so\n",
    "# trying /home/raulcd/collections.abi3.so\n",
    "# trying /home/raulcd/collections.so\n",
    "# trying /home/raulcd/collections.py\n",
    "# trying /home/raulcd/collections.pyc\n",
    ">>> dir(spec)\n",
    "[... 'cached', 'has_location', 'loader', 'loader_state', 'name', 'origin', 'parent', 'submodule_search_locations']\n",
    ">>> spec.name\n",
    "'collections'\n",
    ">>> spec.parent\n",
    "'collections'\n",
    ">>> spec.cached\n",
    "'/usr/lib/python3.5/collections/__pycache__/__init__.cpython-35.pyc'\n",
    ">>> spec.loader\n",
    "<_frozen_importlib_external.SourceFileLoader object at 0x7f8240091be0>\n",
    ">>> "
   ]
  },
  {
   "cell_type": "markdown",
   "metadata": {
    "slideshow": {
     "slide_type": "slide"
    }
   },
   "source": [
    "# Recap: find_spec\n",
    "\n",
    "![caption](img/import_10.png)"
   ]
  },
  {
   "cell_type": "markdown",
   "metadata": {
    "slideshow": {
     "slide_type": "slide"
    }
   },
   "source": [
    "# Find spec and load module\n",
    "\n",
    "![caption](img/import_4.png)"
   ]
  },
  {
   "cell_type": "code",
   "execution_count": null,
   "metadata": {
    "collapsed": true,
    "slideshow": {
     "slide_type": "skip"
    }
   },
   "outputs": [],
   "source": [
    "def _load_unlocked(spec):\n",
    "    # A helper for direct use by the import system.\n",
    "    ...\n",
    "    module = module_from_spec(spec)\n",
    "    with _installed_safely(module):\n",
    "       ...\n",
    "            spec.loader.exec_module(module)\n",
    "    ...\n",
    "    return sys.modules[spec.name]"
   ]
  },
  {
   "cell_type": "markdown",
   "metadata": {
    "slideshow": {
     "slide_type": "slide"
    }
   },
   "source": [
    "# Load module\n",
    "\n",
    "![caption](img/import_11.png)"
   ]
  },
  {
   "cell_type": "code",
   "execution_count": null,
   "metadata": {
    "collapsed": true,
    "slideshow": {
     "slide_type": "skip"
    }
   },
   "outputs": [],
   "source": [
    "def module_from_spec(spec):\n",
    "    \"\"\"Create a module based on the provided spec.\"\"\"\n",
    "    # Typically loaders will not implement create_module().\n",
    "    module = None\n",
    "    if hasattr(spec.loader, 'create_module'):\n",
    "        # If create_module() returns `None` then it means default\n",
    "        # module creation should be used.\n",
    "        module = spec.loader.create_module(spec)\n",
    "    elif hasattr(spec.loader, 'exec_module'):\n",
    "        _warnings.warn('starting in Python 3.6, loaders defining exec_module() '\n",
    "                       'must also define create_module()',\n",
    "                       DeprecationWarning, stacklevel=2)\n",
    "    if module is None:\n",
    "        module = _new_module(spec.name)\n",
    "    _init_module_attrs(spec, module)\n",
    "    return module"
   ]
  },
  {
   "cell_type": "code",
   "execution_count": null,
   "metadata": {
    "collapsed": true,
    "slideshow": {
     "slide_type": "skip"
    }
   },
   "outputs": [],
   "source": [
    "def _new_module(name):\n",
    "    return type(sys)(name)"
   ]
  },
  {
   "cell_type": "markdown",
   "metadata": {
    "slideshow": {
     "slide_type": "slide"
    }
   },
   "source": [
    "# Create module object\n",
    "\n",
    "![caption](img/import_12.png)"
   ]
  },
  {
   "cell_type": "markdown",
   "metadata": {
    "slideshow": {
     "slide_type": "slide"
    }
   },
   "source": [
    "# Load module: Context Manager and exec_module\n",
    "\n",
    "![caption](img/import_11.png)"
   ]
  },
  {
   "cell_type": "code",
   "execution_count": null,
   "metadata": {
    "collapsed": true,
    "slideshow": {
     "slide_type": "slide"
    }
   },
   "outputs": [],
   "source": [
    "class _installed_safely:\n",
    "    ...\n",
    "\n",
    "    def __enter__(self):\n",
    "        ...\n",
    "        sys.modules[self._spec.name] = self._module"
   ]
  },
  {
   "cell_type": "code",
   "execution_count": null,
   "metadata": {
    "collapsed": true,
    "slideshow": {
     "slide_type": "skip"
    }
   },
   "outputs": [],
   "source": [
    "# LoaderBasic    \n",
    "    def exec_module(self, module):\n",
    "        \"\"\"Execute the module.\"\"\"\n",
    "        code = self.get_code(module.__name__)\n",
    "        if code is None:\n",
    "            raise ImportError('cannot load module {!r} when get_code() '\n",
    "                              'returns None'.format(module.__name__))\n",
    "        _bootstrap._call_with_frames_removed(exec, code, module.__dict__)"
   ]
  },
  {
   "cell_type": "code",
   "execution_count": null,
   "metadata": {
    "collapsed": true,
    "slideshow": {
     "slide_type": "skip"
    }
   },
   "outputs": [],
   "source": [
    "    def get_code(self, fullname):\n",
    "        \"\"\"Concrete implementation of InspectLoader.get_code.\n",
    "        Reading of bytecode requires path_stats to be implemented. To write\n",
    "        bytecode, set_data must also be implemented.\n",
    "        \"\"\"\n",
    "        ...\n",
    "            bytecode_path = cache_from_source(source_path)\n",
    "        ..."
   ]
  },
  {
   "cell_type": "markdown",
   "metadata": {
    "slideshow": {
     "slide_type": "slide"
    }
   },
   "source": [
    "# Load module: Context Manager and exec_module\n",
    "\n",
    "![caption](img/import_11.png)"
   ]
  },
  {
   "cell_type": "markdown",
   "metadata": {
    "slideshow": {
     "slide_type": "slide"
    }
   },
   "source": [
    "# get_code\n",
    "\n",
    "![caption](img/import_13.png)"
   ]
  },
  {
   "cell_type": "code",
   "execution_count": 44,
   "metadata": {
    "collapsed": false,
    "slideshow": {
     "slide_type": "slide"
    }
   },
   "outputs": [
    {
     "data": {
      "text/plain": [
       "'__pycache__/tomato.cpython-35.pyc'"
      ]
     },
     "execution_count": 44,
     "metadata": {},
     "output_type": "execute_result"
    }
   ],
   "source": [
    "from importlib import _bootstrap_external\n",
    "_bootstrap_external.cache_from_source('/tomato.py')"
   ]
  },
  {
   "cell_type": "code",
   "execution_count": 46,
   "metadata": {
    "collapsed": false,
    "slideshow": {
     "slide_type": "fragment"
    }
   },
   "outputs": [
    {
     "data": {
      "text/plain": [
       "'__pycache__/tomato.cpython-35.opt-1.pyc'"
      ]
     },
     "execution_count": 46,
     "metadata": {},
     "output_type": "execute_result"
    }
   ],
   "source": [
    "_bootstrap_external.cache_from_source('/tomato.py', optimization=1)"
   ]
  },
  {
   "cell_type": "code",
   "execution_count": 47,
   "metadata": {
    "collapsed": false,
    "slideshow": {
     "slide_type": "fragment"
    }
   },
   "outputs": [
    {
     "data": {
      "text/plain": [
       "'__pycache__/tomato.cpython-35.opt-2.pyc'"
      ]
     },
     "execution_count": 47,
     "metadata": {},
     "output_type": "execute_result"
    }
   ],
   "source": [
    "_bootstrap_external.cache_from_source('/tomato.py', optimization=2)"
   ]
  },
  {
   "cell_type": "code",
   "execution_count": null,
   "metadata": {
    "collapsed": false,
    "slideshow": {
     "slide_type": "fragment"
    }
   },
   "outputs": [],
   "source": [
    "python -O\n",
    "python -OO\n",
    "def test():\n",
    "    \"\"\"\n",
    "    This is my test function --> Removed on optimization 2\n",
    "    \"\"\"\n",
    "    assert False == True --> Removed on optimization 1 and 2"
   ]
  },
  {
   "cell_type": "markdown",
   "metadata": {
    "slideshow": {
     "slide_type": "slide"
    }
   },
   "source": [
    "# get_code\n",
    "\n",
    "![caption](img/import_13.png)"
   ]
  },
  {
   "cell_type": "code",
   "execution_count": null,
   "metadata": {
    "collapsed": true,
    "slideshow": {
     "slide_type": "skip"
    }
   },
   "outputs": [],
   "source": [
    "    def get_code(self, fullname):\n",
    "        \"\"\"Concrete implementation of InspectLoader.get_code.\n",
    "        Reading of bytecode requires path_stats to be implemented. To write\n",
    "        bytecode, set_data must also be implemented.\n",
    "        \"\"\"\n",
    "        ...\n",
    "            bytecode_path = cache_from_source(source_path)\n",
    "        ...\n",
    "                try:\n",
    "                    data = self.get_data(bytecode_path)\n",
    "                except OSError:\n",
    "                    pass\n",
    "                else:\n",
    "                    try:\n",
    "                        bytes_data = _validate_bytecode_header(data,\n",
    "                                source_stats=st, name=fullname,\n",
    "                                path=bytecode_path)\n",
    "                    except (ImportError, EOFError):\n",
    "                        pass\n",
    "                    else:\n",
    "                        ...\n",
    "                        return _compile_bytecode(bytes_data, name=fullname,\n",
    "                                                 bytecode_path=bytecode_path,\n",
    "                                                 source_path=source_path)\n",
    "        source_bytes = self.get_data(source_path)\n",
    "        code_object = self.source_to_code(source_bytes, source_path)\n",
    "        ...\n",
    "        if (not sys.dont_write_bytecode ...):\n",
    "            data = _code_to_bytecode(code_object, source_mtime,\n",
    "                    len(source_bytes))\n",
    "            try:\n",
    "                self._cache_bytecode(source_path, bytecode_path, data)\n",
    "                ...\n",
    "        return code_object"
   ]
  },
  {
   "cell_type": "code",
   "execution_count": 63,
   "metadata": {
    "collapsed": false,
    "slideshow": {
     "slide_type": "slide"
    }
   },
   "outputs": [
    {
     "data": {
      "text/plain": [
       "<code object <module> at 0x7f43e77d30c0, file \"string\", line 1>"
      ]
     },
     "execution_count": 63,
     "metadata": {},
     "output_type": "execute_result"
    }
   ],
   "source": [
    "compile(\"def my_func():\\n    print(__name__)\", \"string\", \"exec\")"
   ]
  },
  {
   "cell_type": "code",
   "execution_count": 71,
   "metadata": {
    "collapsed": false,
    "slideshow": {
     "slide_type": "fragment"
    }
   },
   "outputs": [
    {
     "name": "stdout",
     "output_type": "stream",
     "text": [
      "__main__\n"
     ]
    }
   ],
   "source": [
    "exec(code, globals())\n",
    "my_func()"
   ]
  },
  {
   "cell_type": "code",
   "execution_count": 72,
   "metadata": {
    "collapsed": false,
    "slideshow": {
     "slide_type": "fragment"
    }
   },
   "outputs": [
    {
     "name": "stdout",
     "output_type": "stream",
     "text": [
      "  1           0 LOAD_CONST               0 (<code object my_func at 0x7f43f400c150, file \"string\", line 1>)\n",
      "              3 LOAD_CONST               1 ('my_func')\n",
      "              6 MAKE_FUNCTION            0\n",
      "              9 STORE_NAME               0 (my_func)\n",
      "             12 LOAD_CONST               2 (None)\n",
      "             15 RETURN_VALUE\n"
     ]
    }
   ],
   "source": [
    "import dis\n",
    "dis.dis(code)"
   ]
  },
  {
   "cell_type": "markdown",
   "metadata": {
    "slideshow": {
     "slide_type": "slide"
    }
   },
   "source": [
    "# Load code\n",
    "\n",
    "![caption](img/import_14.png)"
   ]
  },
  {
   "cell_type": "markdown",
   "metadata": {
    "slideshow": {
     "slide_type": "slide"
    }
   },
   "source": [
    "# Starting point\n",
    "\n",
    "![caption](img/import_1.png)"
   ]
  },
  {
   "cell_type": "markdown",
   "metadata": {
    "slideshow": {
     "slide_type": "slide"
    }
   },
   "source": [
    "# End\n",
    "\n",
    "![caption](img/import_15.png)"
   ]
  },
  {
   "cell_type": "markdown",
   "metadata": {
    "slideshow": {
     "slide_type": "slide"
    }
   },
   "source": [
    "# To remember\n",
    "\n",
    "* Specs\n",
    " * Definition of how to load a module and metadata of the module\n",
    "* Finders\n",
    " * Strategies to find the module and specify a Loader.\n",
    " * Creation of Spec\n",
    "* Loaders\n",
    " * Load a module\n",
    " * Insert it in sys.modules"
   ]
  },
  {
   "cell_type": "markdown",
   "metadata": {
    "slideshow": {
     "slide_type": "slide"
    }
   },
   "source": [
    "# Extend import\n",
    "\n",
    "* sys.meta_path\n",
    " * New Finders (i.e. HTTPFinder, FTPFinder)\n",
    "* sys.path_hooks\n",
    " * New PathFinders (i.e. XMLFinder, GoFinder)\n",
    "* sys.modules\n",
    " * Cache of modules\n",
    "* sys.path\n",
    " * Where the finders are going to take a look on"
   ]
  }
 ],
 "metadata": {
  "celltoolbar": "Slideshow",
  "kernelspec": {
   "display_name": "Python 3",
   "language": "python",
   "name": "python3"
  },
  "language_info": {
   "codemirror_mode": {
    "name": "ipython",
    "version": 3
   },
   "file_extension": ".py",
   "mimetype": "text/x-python",
   "name": "python",
   "nbconvert_exporter": "python",
   "pygments_lexer": "ipython3",
   "version": "3.5.0"
  }
 },
 "nbformat": 4,
 "nbformat_minor": 0
}
