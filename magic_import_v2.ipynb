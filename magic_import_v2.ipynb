{
 "cells": [
  {
   "cell_type": "markdown",
   "metadata": {
    "collapsed": true,
    "slideshow": {
     "slide_type": "slide"
    }
   },
   "source": [
    "# import magic\n",
    "* **Raúl Cumplido**\n",
    "* **@raulcumplido**\n",
    "* **PyConES 2015 - Valencia**\n",
    "\n",
    "![caption](img/te_chie_la.png)"
   ]
  },
  {
   "cell_type": "markdown",
   "metadata": {
    "slideshow": {
     "slide_type": "slide"
    }
   },
   "source": [
    "# Versions\n",
    "\n",
    "* Almost everything **Python 3.4**\n",
    "* Some bits **Python 3.5**\n",
    "* Extra **Python 3.6**"
   ]
  },
  {
   "cell_type": "markdown",
   "metadata": {
    "slideshow": {
     "slide_type": "slide"
    }
   },
   "source": [
    "# Covered\n",
    "* Diving deep on how \"straightforward\" import works\n",
    "\n",
    "# Not covered\n",
    "* Packages\n",
    "* NamespacePaths\n",
    "* Importlock\n",
    "* Lots of other stuff going on behind the scences (corner cases)"
   ]
  },
  {
   "cell_type": "code",
   "execution_count": 1,
   "metadata": {
    "collapsed": false,
    "slideshow": {
     "slide_type": "slide"
    }
   },
   "outputs": [
    {
     "data": {
      "text/plain": [
       "1.0"
      ]
     },
     "execution_count": 1,
     "metadata": {},
     "output_type": "execute_result"
    }
   ],
   "source": [
    "import math\n",
    "math.sin(math.pi/2)"
   ]
  },
  {
   "cell_type": "code",
   "execution_count": 2,
   "metadata": {
    "collapsed": false,
    "slideshow": {
     "slide_type": "fragment"
    }
   },
   "outputs": [
    {
     "data": {
      "text/plain": [
       "OrderedDict()"
      ]
     },
     "execution_count": 2,
     "metadata": {},
     "output_type": "execute_result"
    }
   ],
   "source": [
    "import collections\n",
    "collections.OrderedDict()"
   ]
  },
  {
   "cell_type": "markdown",
   "metadata": {
    "slideshow": {
     "slide_type": "slide"
    }
   },
   "source": [
    "# Easy Peasy\n",
    "\n",
    "![caption](img/import_1.png)"
   ]
  },
  {
   "cell_type": "code",
   "execution_count": null,
   "metadata": {
    "collapsed": true,
    "slideshow": {
     "slide_type": "slide"
    }
   },
   "outputs": [],
   "source": [
    "# collections.py, math.py and my_method.py\n",
    "def my_method():\n",
    "    print(__name__)\n",
    "\n",
    ">>> import my_module\n",
    ">>> my_module.my_method()\n",
    "my_module\n",
    ">>> import math\n",
    ">>> import collections\n",
    ">>> math.my_method()\n",
    "math\n",
    ">>> collections.my_method()\n",
    "Traceback (most recent call last):\n",
    "  File \"<stdin>\", line 1, in <module>\n",
    "AttributeError: module 'collections' has no attribute 'my_method'\n",
    ">>> collections.OrderedDict()\n",
    "OrderedDict()\n",
    ">>> \n",
    "\n",
    ".\n",
    "├── collections.py\n",
    "├── math.py\n",
    "├── my_module.py\n",
    "└── __pycache__\n",
    "    ├── math.cpython-35.pyc\n",
    "    └── my_module.cpython-35.pyc"
   ]
  },
  {
   "cell_type": "markdown",
   "metadata": {
    "slideshow": {
     "slide_type": "slide"
    }
   },
   "source": [
    "# WAT!!!\n",
    "\n",
    "![caption](img/wat.gif)"
   ]
  },
  {
   "cell_type": "markdown",
   "metadata": {
    "slideshow": {
     "slide_type": "slide"
    }
   },
   "source": [
    "# Import machinery\n",
    "\n",
    "* Importlib is the implementation of import"
   ]
  },
  {
   "cell_type": "code",
   "execution_count": 25,
   "metadata": {
    "collapsed": false,
    "slideshow": {
     "slide_type": "fragment"
    }
   },
   "outputs": [
    {
     "name": "stdout",
     "output_type": "stream",
     "text": [
      "['.py']\n",
      "['.pyc']\n",
      "b'\\x16\\r\\r\\n'\n"
     ]
    },
    {
     "data": {
      "text/plain": [
       "<module 'collections' from '/home/raulcd/.virtualenvs/import_magic/lib/python3.5/collections/__init__.py'>"
      ]
     },
     "execution_count": 25,
     "metadata": {},
     "output_type": "execute_result"
    }
   ],
   "source": [
    "import importlib\n",
    "print(importlib.machinery.SOURCE_SUFFIXES)\n",
    "print(importlib.machinery.BYTECODE_SUFFIXES)\n",
    "print(importlib._bootstrap_external.MAGIC_NUMBER)\n",
    "importlib.import_module(\"collections\")"
   ]
  },
  {
   "cell_type": "markdown",
   "metadata": {
    "slideshow": {
     "slide_type": "slide"
    }
   },
   "source": [
    "# sys.modules: Caching modules\n",
    "\n",
    "![caption](img/import_3.png)"
   ]
  },
  {
   "cell_type": "markdown",
   "metadata": {
    "slideshow": {
     "slide_type": "slide"
    }
   },
   "source": [
    "# Cache All The Things!\n",
    "\n",
    "![caption](img/cache.jpg)"
   ]
  },
  {
   "cell_type": "markdown",
   "metadata": {
    "slideshow": {
     "slide_type": "slide"
    }
   },
   "source": [
    "# Find spec and load module\n",
    "\n",
    "![caption](img/import_4.png)"
   ]
  },
  {
   "cell_type": "markdown",
   "metadata": {
    "slideshow": {
     "slide_type": "slide"
    }
   },
   "source": [
    "# sys.meta_path: Importers\n",
    "\n",
    "![caption](img/import_5.png)"
   ]
  },
  {
   "cell_type": "code",
   "execution_count": 26,
   "metadata": {
    "collapsed": false,
    "slideshow": {
     "slide_type": "slide"
    }
   },
   "outputs": [
    {
     "data": {
      "text/plain": [
       "[_frozen_importlib.BuiltinImporter,\n",
       " _frozen_importlib.FrozenImporter,\n",
       " _frozen_importlib_external.PathFinder]"
      ]
     },
     "execution_count": 26,
     "metadata": {},
     "output_type": "execute_result"
    }
   ],
   "source": [
    "import sys\n",
    "sys.meta_path"
   ]
  },
  {
   "cell_type": "code",
   "execution_count": null,
   "metadata": {
    "collapsed": true,
    "slideshow": {
     "slide_type": "fragment"
    }
   },
   "outputs": [],
   "source": [
    "@host - ~$ python -vv\n",
    "import _frozen_importlib # frozen\n",
    "import imp # builtin\n",
    "import sys # builtin\n",
    "import '_warnings' # <class '_frozen_importlib.BuiltinImporter'>\n",
    "import '_thread' # <class '_frozen_importlib.BuiltinImporter'>\n",
    "import '_weakref' # <class '_frozen_importlib.BuiltinImporter'>\n",
    "import '_frozen_importlib_external' # <class '_frozen_importlib.FrozenImporter'>\n",
    "import '_io' # <class '_frozen_importlib.BuiltinImporter'>\n",
    "import 'marshal' # <class '_frozen_importlib.BuiltinImporter'>\n",
    "import 'posix' # <class '_frozen_importlib.BuiltinImporter'>\n",
    "import _thread # previously loaded ('_thread')\n",
    "import '_thread' # <class '_frozen_importlib.BuiltinImporter'>\n",
    "import _weakref # previously loaded ('_weakref')\n",
    "import '_weakref' # <class '_frozen_importlib.BuiltinImporter'>\n",
    "# installing zipimport hook\n",
    "import 'zipimport' # <class '_frozen_importlib.BuiltinImporter'>\n"
   ]
  },
  {
   "cell_type": "markdown",
   "metadata": {
    "slideshow": {
     "slide_type": "slide"
    }
   },
   "source": [
    "# sys.meta_path: BuiltinImporter\n",
    "\n",
    "![caption](img/import_6.png)"
   ]
  },
  {
   "cell_type": "markdown",
   "metadata": {
    "slideshow": {
     "slide_type": "slide"
    }
   },
   "source": [
    "# sys.meta_path: FrozenImporter\n",
    "\n",
    "![caption](img/import_7.png)"
   ]
  },
  {
   "cell_type": "markdown",
   "metadata": {
    "collapsed": true,
    "slideshow": {
     "slide_type": "slide"
    }
   },
   "source": [
    "# PathFinder: The finder searchs a finder\n",
    "\n",
    "![caption](img/import_8.png)"
   ]
  },
  {
   "cell_type": "markdown",
   "metadata": {
    "collapsed": true,
    "slideshow": {
     "slide_type": "slide"
    }
   },
   "source": [
    "# The finder searchs a finder\n",
    "\n",
    "![caption](img/infinite.gif)"
   ]
  },
  {
   "cell_type": "markdown",
   "metadata": {
    "collapsed": true,
    "slideshow": {
     "slide_type": "slide"
    }
   },
   "source": [
    "# PathFinder: The fun begins\n",
    "\n",
    "![caption](img/import_9.png)"
   ]
  },
  {
   "cell_type": "code",
   "execution_count": null,
   "metadata": {
    "collapsed": true,
    "slideshow": {
     "slide_type": "slide"
    }
   },
   "outputs": [],
   "source": [
    ">>> import sys\n",
    ">>> sys.path_importer_cache\n",
    "{'/usr/lib/python35.zip': None, '/usr/lib/python3.5/plat-linux': FileFinder('/usr/lib/python3.5/plat-linux'), \n",
    " '/usr/lib/python3.5/site-packages': FileFinder('/usr/lib/python3.5/site-packages'), \n",
    " '/usr/lib/python3.5': FileFinder('/usr/lib/python3.5'), '/usr/lib/python3.5/': FileFinder('/usr/lib/python3.5/'), \n",
    " '/usr/lib/python3.5/lib-dynload': FileFinder('/usr/lib/python3.5/lib-dynload'), \n",
    " '/usr/lib/python3.5/encodings': FileFinder('/usr/lib/python3.5/encodings'), \n",
    " '/usr/lib/python3.5/collections': FileFinder('/usr/lib/python3.5/collections')}"
   ]
  },
  {
   "cell_type": "code",
   "execution_count": 34,
   "metadata": {
    "collapsed": false,
    "slideshow": {
     "slide_type": "fragment"
    }
   },
   "outputs": [
    {
     "data": {
      "text/plain": [
       "[zipimport.zipimporter,\n",
       " <function _frozen_importlib_external.FileFinder.path_hook.<locals>.path_hook_for_FileFinder>]"
      ]
     },
     "execution_count": 34,
     "metadata": {},
     "output_type": "execute_result"
    }
   ],
   "source": [
    "import sys\n",
    "sys.path_hooks"
   ]
  },
  {
   "cell_type": "code",
   "execution_count": 43,
   "metadata": {
    "collapsed": false,
    "slideshow": {
     "slide_type": "fragment"
    }
   },
   "outputs": [
    {
     "data": {
      "text/plain": [
       "ModuleSpec(name='test', loader=<_frozen_importlib_external.SourceFileLoader object at 0x7f43f4035e80>, origin='/test.py')"
      ]
     },
     "execution_count": 43,
     "metadata": {},
     "output_type": "execute_result"
    }
   ],
   "source": [
    "# /test.py exists otherwise None is returned\n",
    "sys.path_hooks[1]('/').find_spec('test')"
   ]
  },
  {
   "cell_type": "code",
   "execution_count": null,
   "metadata": {
    "collapsed": true,
    "slideshow": {
     "slide_type": "slide"
    }
   },
   "outputs": [],
   "source": [
    ">>> spec = sys.meta_path[2].find_spec('collections')\n",
    "# trying /home/raulcd/collections.cpython-35m-x86_64-linux-gnu.so\n",
    "# trying /home/raulcd/collections.abi3.so\n",
    "# trying /home/raulcd/collections.so\n",
    "# trying /home/raulcd/collections.py\n",
    "# trying /home/raulcd/collections.pyc\n",
    ">>> dir(spec)\n",
    "[... 'cached', 'has_location', 'loader', 'loader_state', 'name', 'origin', 'parent', 'submodule_search_locations']\n",
    ">>> spec.name\n",
    "'collections'\n",
    ">>> spec.parent\n",
    "'collections'\n",
    ">>> spec.cached\n",
    "'/usr/lib/python3.5/collections/__pycache__/__init__.cpython-35.pyc'\n",
    ">>> spec.loader\n",
    "<_frozen_importlib_external.SourceFileLoader object at 0x7f8240091be0>\n",
    ">>> "
   ]
  },
  {
   "cell_type": "markdown",
   "metadata": {
    "slideshow": {
     "slide_type": "slide"
    }
   },
   "source": [
    "# Recap: find_spec\n",
    "\n",
    "![caption](img/import_10.png)"
   ]
  },
  {
   "cell_type": "markdown",
   "metadata": {
    "slideshow": {
     "slide_type": "slide"
    }
   },
   "source": [
    "# Find spec and load module\n",
    "\n",
    "![caption](img/import_4.png)"
   ]
  },
  {
   "cell_type": "markdown",
   "metadata": {
    "slideshow": {
     "slide_type": "slide"
    }
   },
   "source": [
    "# Load module\n",
    "\n",
    "![caption](img/import_11.png)"
   ]
  },
  {
   "cell_type": "markdown",
   "metadata": {
    "slideshow": {
     "slide_type": "slide"
    }
   },
   "source": [
    "# Create module object\n",
    "\n",
    "![caption](img/import_12.png)"
   ]
  },
  {
   "cell_type": "code",
   "execution_count": null,
   "metadata": {
    "collapsed": true,
    "slideshow": {
     "slide_type": "fragment"
    }
   },
   "outputs": [],
   "source": [
    "def _new_module(name):\n",
    "    return type(sys)(name)"
   ]
  },
  {
   "cell_type": "markdown",
   "metadata": {
    "slideshow": {
     "slide_type": "slide"
    }
   },
   "source": [
    "# Load module: Context Manager and exec_module\n",
    "\n",
    "![caption](img/import_11.png)"
   ]
  },
  {
   "cell_type": "code",
   "execution_count": null,
   "metadata": {
    "collapsed": true,
    "slideshow": {
     "slide_type": "slide"
    }
   },
   "outputs": [],
   "source": [
    "class _installed_safely:\n",
    "    ...\n",
    "\n",
    "    def __enter__(self):\n",
    "        ...\n",
    "        sys.modules[self._spec.name] = self._module"
   ]
  },
  {
   "cell_type": "code",
   "execution_count": null,
   "metadata": {
    "collapsed": true,
    "slideshow": {
     "slide_type": "slide"
    }
   },
   "outputs": [],
   "source": [
    "#foo.py\n",
    "import bar\n",
    "\n",
    "def name():\n",
    "    print(__name__)\n",
    "\n",
    "bar.name()"
   ]
  },
  {
   "cell_type": "code",
   "execution_count": null,
   "metadata": {
    "collapsed": true,
    "slideshow": {
     "slide_type": "fragment"
    }
   },
   "outputs": [],
   "source": [
    "# bar.py\n",
    "import foo\n",
    "\n",
    "foo.name()\n",
    "\n",
    "def name():\n",
    "    print(__name__)"
   ]
  },
  {
   "cell_type": "code",
   "execution_count": null,
   "metadata": {
    "collapsed": true,
    "slideshow": {
     "slide_type": "fragment"
    }
   },
   "outputs": [],
   "source": [
    "$ python\n",
    "Python 3.5.0 (default, Sep 20 2015, 11:28:25) \n",
    "[GCC 5.2.0] on linux\n",
    "Type \"help\", \"copyright\", \"credits\" or \"license\" for more information.\n",
    ">>> import foo\n",
    "Traceback (most recent call last):\n",
    "  File \"<stdin>\", line 1, in <module>\n",
    "  File \"/home/raulcd/import_magic/_examples/import_reference_1/foo.py\", line 1, in <module>\n",
    "    import bar\n",
    "  File \"/home/raulcd/import_magic/_examples/import_reference_1/bar.py\", line 3, in <module>\n",
    "    foo.name()\n",
    "AttributeError: module 'foo' has no attribute 'name'"
   ]
  },
  {
   "cell_type": "code",
   "execution_count": null,
   "metadata": {
    "collapsed": true,
    "slideshow": {
     "slide_type": "slide"
    }
   },
   "outputs": [],
   "source": [
    "# foo.py\n",
    "import bar\n",
    "\n",
    "def name():\n",
    "    print(__name__)\n",
    "\n",
    "bar.name()"
   ]
  },
  {
   "cell_type": "code",
   "execution_count": null,
   "metadata": {
    "collapsed": true,
    "slideshow": {
     "slide_type": "fragment"
    }
   },
   "outputs": [],
   "source": [
    "# bar.py\n",
    "import foo\n",
    "\n",
    "foo.__name__\n",
    "\n",
    "def name():\n",
    "    print(__name__)\n",
    "    foo.name()"
   ]
  },
  {
   "cell_type": "code",
   "execution_count": null,
   "metadata": {
    "collapsed": true,
    "slideshow": {
     "slide_type": "fragment"
    }
   },
   "outputs": [],
   "source": [
    "$ python\n",
    "Python 3.5.0 (default, Sep 20 2015, 11:28:25) \n",
    "[GCC 5.2.0] on linux\n",
    "Type \"help\", \"copyright\", \"credits\" or \"license\" for more information.\n",
    ">>> import foo\n",
    "bar\n",
    "foo\n",
    ">>> "
   ]
  },
  {
   "cell_type": "markdown",
   "metadata": {
    "slideshow": {
     "slide_type": "slide"
    }
   },
   "source": [
    "# Load module: Context Manager and exec_module\n",
    "\n",
    "![caption](img/import_11.png)"
   ]
  },
  {
   "cell_type": "markdown",
   "metadata": {
    "slideshow": {
     "slide_type": "slide"
    }
   },
   "source": [
    "# get_code\n",
    "\n",
    "![caption](img/import_13.png)"
   ]
  },
  {
   "cell_type": "code",
   "execution_count": 44,
   "metadata": {
    "collapsed": false,
    "slideshow": {
     "slide_type": "slide"
    }
   },
   "outputs": [
    {
     "data": {
      "text/plain": [
       "'__pycache__/tomato.cpython-35.pyc'"
      ]
     },
     "execution_count": 44,
     "metadata": {},
     "output_type": "execute_result"
    }
   ],
   "source": [
    "from importlib import _bootstrap_external\n",
    "_bootstrap_external.cache_from_source('/tomato.py')"
   ]
  },
  {
   "cell_type": "code",
   "execution_count": 46,
   "metadata": {
    "collapsed": false,
    "slideshow": {
     "slide_type": "fragment"
    }
   },
   "outputs": [
    {
     "data": {
      "text/plain": [
       "'__pycache__/tomato.cpython-35.opt-1.pyc'"
      ]
     },
     "execution_count": 46,
     "metadata": {},
     "output_type": "execute_result"
    }
   ],
   "source": [
    "_bootstrap_external.cache_from_source('/tomato.py', optimization=1)"
   ]
  },
  {
   "cell_type": "code",
   "execution_count": 47,
   "metadata": {
    "collapsed": false,
    "slideshow": {
     "slide_type": "fragment"
    }
   },
   "outputs": [
    {
     "data": {
      "text/plain": [
       "'__pycache__/tomato.cpython-35.opt-2.pyc'"
      ]
     },
     "execution_count": 47,
     "metadata": {},
     "output_type": "execute_result"
    }
   ],
   "source": [
    "_bootstrap_external.cache_from_source('/tomato.py', optimization=2)"
   ]
  },
  {
   "cell_type": "code",
   "execution_count": null,
   "metadata": {
    "collapsed": false,
    "slideshow": {
     "slide_type": "fragment"
    }
   },
   "outputs": [],
   "source": [
    "python -O\n",
    "python -OO\n",
    "def test():\n",
    "    \"\"\"\n",
    "    This is my test function --> Removed on optimization 2\n",
    "    \"\"\"\n",
    "    assert False == True --> Removed on optimization 1 and 2"
   ]
  },
  {
   "cell_type": "markdown",
   "metadata": {
    "slideshow": {
     "slide_type": "slide"
    }
   },
   "source": [
    "# get_code\n",
    "\n",
    "![caption](img/import_13.png)"
   ]
  },
  {
   "cell_type": "code",
   "execution_count": 63,
   "metadata": {
    "collapsed": false,
    "slideshow": {
     "slide_type": "slide"
    }
   },
   "outputs": [
    {
     "data": {
      "text/plain": [
       "<code object <module> at 0x7f43e77d30c0, file \"string\", line 1>"
      ]
     },
     "execution_count": 63,
     "metadata": {},
     "output_type": "execute_result"
    }
   ],
   "source": [
    "compile(\"def my_func():\\n    print(__name__)\", \"string\", \"exec\")"
   ]
  },
  {
   "cell_type": "code",
   "execution_count": 71,
   "metadata": {
    "collapsed": false,
    "slideshow": {
     "slide_type": "fragment"
    }
   },
   "outputs": [
    {
     "name": "stdout",
     "output_type": "stream",
     "text": [
      "__main__\n"
     ]
    }
   ],
   "source": [
    "exec(code, globals())\n",
    "my_func()"
   ]
  },
  {
   "cell_type": "code",
   "execution_count": 72,
   "metadata": {
    "collapsed": false,
    "slideshow": {
     "slide_type": "fragment"
    }
   },
   "outputs": [
    {
     "name": "stdout",
     "output_type": "stream",
     "text": [
      "  1           0 LOAD_CONST               0 (<code object my_func at 0x7f43f400c150, file \"string\", line 1>)\n",
      "              3 LOAD_CONST               1 ('my_func')\n",
      "              6 MAKE_FUNCTION            0\n",
      "              9 STORE_NAME               0 (my_func)\n",
      "             12 LOAD_CONST               2 (None)\n",
      "             15 RETURN_VALUE\n"
     ]
    }
   ],
   "source": [
    "import dis\n",
    "dis.dis(code)"
   ]
  },
  {
   "cell_type": "markdown",
   "metadata": {
    "slideshow": {
     "slide_type": "slide"
    }
   },
   "source": [
    "# Load code\n",
    "\n",
    "![caption](img/import_14.png)"
   ]
  },
  {
   "cell_type": "markdown",
   "metadata": {
    "slideshow": {
     "slide_type": "slide"
    }
   },
   "source": [
    "# Starting point\n",
    "\n",
    "![caption](img/import_1.png)"
   ]
  },
  {
   "cell_type": "markdown",
   "metadata": {
    "slideshow": {
     "slide_type": "slide"
    }
   },
   "source": [
    "# End\n",
    "\n",
    "![caption](img/import_15.png)"
   ]
  },
  {
   "cell_type": "markdown",
   "metadata": {
    "slideshow": {
     "slide_type": "slide"
    }
   },
   "source": [
    "# To remember\n",
    "\n",
    "* Specs\n",
    " * Definition of how to load a module and metadata of the module\n",
    "* Finders\n",
    " * Strategies to find the module and specify a Loader.\n",
    " * Creation of Spec\n",
    "* Loaders\n",
    " * Load a module\n",
    " * Insert it in sys.modules"
   ]
  },
  {
   "cell_type": "markdown",
   "metadata": {
    "slideshow": {
     "slide_type": "slide"
    }
   },
   "source": [
    "# Extend import\n",
    "\n",
    "* sys.meta_path\n",
    " * New Finders (i.e. HTTPFinder, FTPFinder)\n",
    "* sys.path_hooks\n",
    " * New PathFinders (i.e. XMLFinder, GoFinder)\n",
    "* sys.modules\n",
    " * Cache of modules\n",
    "* sys.path\n",
    " * Where the finders are going to take a look on"
   ]
  }
 ],
 "metadata": {
  "celltoolbar": "Slideshow",
  "kernelspec": {
   "display_name": "Python 3",
   "language": "python",
   "name": "python3"
  },
  "language_info": {
   "codemirror_mode": {
    "name": "ipython",
    "version": 3
   },
   "file_extension": ".py",
   "mimetype": "text/x-python",
   "name": "python",
   "nbconvert_exporter": "python",
   "pygments_lexer": "ipython3",
   "version": "3.5.0"
  }
 },
 "nbformat": 4,
 "nbformat_minor": 0
}
